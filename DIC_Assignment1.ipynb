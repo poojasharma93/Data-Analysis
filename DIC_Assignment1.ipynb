{
  "nbformat": 4,
  "nbformat_minor": 0,
  "metadata": {
    "colab": {
      "name": "DIC Assignment1.ipynb",
      "provenance": [],
      "collapsed_sections": [],
      "machine_shape": "hm"
    },
    "kernelspec": {
      "name": "python3",
      "display_name": "Python 3"
    },
    "accelerator": "GPU"
  },
  "cells": [
    {
      "cell_type": "code",
      "metadata": {
        "id": "COsvtxGFf9lW",
        "colab_type": "code",
        "colab": {
          "base_uri": "https://localhost:8080/",
          "height": 34
        },
        "outputId": "f5802a3f-4d5a-4b6c-e43c-8761d231f9cc"
      },
      "source": [
        "from google.colab import drive\n",
        "drive.mount('/content/drive')"
      ],
      "execution_count": null,
      "outputs": [
        {
          "output_type": "stream",
          "text": [
            "Drive already mounted at /content/drive; to attempt to forcibly remount, call drive.mount(\"/content/drive\", force_remount=True).\n"
          ],
          "name": "stdout"
        }
      ]
    },
    {
      "cell_type": "code",
      "metadata": {
        "id": "GHp6bw2Zj0c3",
        "colab_type": "code",
        "colab": {}
      },
      "source": [
        "import os\n",
        "import pandas as pd\n",
        "from sklearn.model_selection import train_test_split\n",
        "import numpy as np\n",
        "os.chdir('/content/drive/My Drive/DIC ASSIGNMENT 1')\n",
        "data=pd.read_csv('data.csv')\n",
        "features=data.iloc[:,0:48]\n",
        "features=np.asarray(features)\n",
        "labels=data.iloc[:,48]\n",
        "features_train,features_test,labels_train,labels_test=train_test_split(features,labels,test_size=0.2)"
      ],
      "execution_count": null,
      "outputs": []
    },
    {
      "cell_type": "code",
      "metadata": {
        "id": "60-odLEYS2EW",
        "colab_type": "code",
        "colab": {}
      },
      "source": [
        "\n",
        "import matplotlib.pyplot as plt\n",
        "from sklearn.metrics import classification_report \n",
        "from sklearn import preprocessing\n",
        "from sklearn.preprocessing import scale\n",
        "from matplotlib.pyplot import matshow\n",
        "import matplotlib.ticker as ticker\n",
        "import matplotlib.pyplot as plt"
      ],
      "execution_count": null,
      "outputs": []
    },
    {
      "cell_type": "markdown",
      "metadata": {
        "id": "5AEwZMVdCjb1",
        "colab_type": "text"
      },
      "source": [
        "DATA NORMALIZATION"
      ]
    },
    {
      "cell_type": "code",
      "metadata": {
        "id": "CSbWpQ5i5u05",
        "colab_type": "code",
        "colab": {}
      },
      "source": [
        "def normalize(features,features_min,features_max):\n",
        "  features = (features - features_min) / (features_max - features_min)\n",
        "\n",
        "  return features"
      ],
      "execution_count": null,
      "outputs": []
    },
    {
      "cell_type": "code",
      "metadata": {
        "id": "17CW12tdSnHf",
        "colab_type": "code",
        "colab": {}
      },
      "source": [
        "features=np.asarray(features)\n",
        "labels = np.asarray(labels)\n",
        "features_train=np.asarray(features_train)\n",
        "features_test=np.asarray(features_test)\n",
        "labels_train=np.asarray(labels_train)\n",
        "labels_test=np.asarray(labels_test)\n",
        "row=features_train[:1,]"
      ],
      "execution_count": null,
      "outputs": []
    },
    {
      "cell_type": "markdown",
      "metadata": {
        "id": "THMLOZstzlqm",
        "colab_type": "text"
      },
      "source": [
        "ACCURACY"
      ]
    },
    {
      "cell_type": "code",
      "metadata": {
        "id": "9hdERvHKzSrG",
        "colab_type": "code",
        "colab": {}
      },
      "source": [
        "# -*- coding: utf-8 -*-\n",
        "\"\"\"\n",
        "Predicitve_Analytics.py\n",
        "\"\"\"\n",
        "\n",
        "\n",
        "def Accuracy(y_true,y_pred):\n",
        "  # \"\"\"\n",
        "  # :type y_true: numpy.ndarray\n",
        "  # :type y_pred: numpy.ndarray\n",
        "  # :rtype: float\n",
        "  \n",
        "  # \"\"\"\n",
        "  size=y_true.size\n",
        "  correct_pred = np.sum(y_true == y_pred)\n",
        "  \n",
        "  return correct_pred / size"
      ],
      "execution_count": null,
      "outputs": []
    },
    {
      "cell_type": "markdown",
      "metadata": {
        "id": "h9KynwUAzn8Y",
        "colab_type": "text"
      },
      "source": [
        "RECALL"
      ]
    },
    {
      "cell_type": "code",
      "metadata": {
        "id": "s8lDpWbjzS7s",
        "colab_type": "code",
        "colab": {}
      },
      "source": [
        "def Recall(y_true,y_pred):\n",
        "    #  \"\"\"\n",
        "    # :type y_true: numpy.ndarray\n",
        "    # :type y_pred: numpy.ndarray\n",
        "    # :rtype: float\n",
        "    # \"\"\"\n",
        "  classes=np.unique(y_true)\n",
        "  size=len(y_pred)\n",
        "  true_positive=0\n",
        "  false_negative=0\n",
        "  recall=0\n",
        "  for c in classes:\n",
        "    for i in range(size):\n",
        "      if y_true[i]==c and y_pred[i]==c:\n",
        "        true_positive +=1\n",
        "      if y_true[i]==c and y_pred[i]!=c:\n",
        "        false_negative +=1\n",
        "    if (true_positive==0 and false_negative==0):\n",
        "      recall=0\n",
        "    else:\n",
        "      recall+=true_positive/(true_positive+false_negative)\n",
        "  return recall/len(classes)"
      ],
      "execution_count": null,
      "outputs": []
    },
    {
      "cell_type": "markdown",
      "metadata": {
        "id": "7bHiSeJiztlO",
        "colab_type": "text"
      },
      "source": [
        "PRECISION"
      ]
    },
    {
      "cell_type": "code",
      "metadata": {
        "id": "ExfxgIQjzTK0",
        "colab_type": "code",
        "colab": {}
      },
      "source": [
        "def Precision(y_true,y_pred):\n",
        "  classes=np.unique(y_true)\n",
        "  size=len(y_pred)\n",
        "  true_positive=0\n",
        "  false_positive=0\n",
        "  precision=0\n",
        "  for c in classes:\n",
        "    for i in range(size):\n",
        "      if y_true[i]==c and y_pred[i]==c:\n",
        "        true_positive +=1\n",
        "      if y_true[i]!=c and y_pred[i]==c:\n",
        "        false_positive +=1\n",
        "    if (true_positive==0 and false_positive==0):\n",
        "      precision=0\n",
        "    else:\n",
        "      precision+=true_positive/(true_positive+false_positive)\n",
        "  return precision/len(classes)"
      ],
      "execution_count": null,
      "outputs": []
    },
    {
      "cell_type": "markdown",
      "metadata": {
        "id": "JMbFOlGnzwsJ",
        "colab_type": "text"
      },
      "source": [
        "KNN"
      ]
    },
    {
      "cell_type": "code",
      "metadata": {
        "id": "RfdRXKD1eD-E",
        "colab_type": "code",
        "colab": {}
      },
      "source": [
        "def KNN(X_train,X_test,Y_train):\n",
        "  Xmin = np.amin(X_train,axis=0).reshape(1,X_train.shape[1])\n",
        "  Xmax = np.amax(X_train,axis=0).reshape(1,X_train.shape[1])\n",
        "  X_train = normalize(X_train,Xmin,Xmax)\n",
        "  X_test = normalize(X_test,Xmin,Xmax)\n",
        "  testresult=[]\n",
        "  k_value=50\n",
        "  b=0\n",
        "  testresult_test=[]\n",
        "  for row in X_test:\n",
        "    distance=[]\n",
        "    knn = []\n",
        "    row=np.asarray(row)\n",
        "    row=row.reshape(1,48)\n",
        "    \n",
        "    # distance=np.sqrt(np.sum(np.subtract(np.tile(row,reps=[32764,1]),X_train),axis=1),axis=1)\n",
        "    distance=np.sqrt(np.sum(np.square((np.subtract(np.repeat(row,32764,0),X_train))),axis=1))\n",
        "    distance=distance.reshape(32764,1)\n",
        "    Y_train=Y_train.reshape(32764,1)\n",
        "    distance_Y_train=np.concatenate((Y_train,distance),axis=1)\n",
        "    distance_Y_train =  distance_Y_train[np.argsort(distance_Y_train[:, 1])]    \n",
        "    knn = distance_Y_train[:k_value]\n",
        "    knn=knn[:,0]\n",
        "    knn=knn.astype(int)\n",
        "    # print(np.bincount(knn).argmax())\n",
        "    testresult_test=np.append(testresult_test,np.bincount(knn).argmax())\n",
        "    testresult_test = testresult_test.astype(int)\n",
        "  return testresult_test\n",
        "result=KNN(features_train,features_test,labels_train)\n"
      ],
      "execution_count": null,
      "outputs": []
    },
    {
      "cell_type": "code",
      "metadata": {
        "id": "kKAmY27E1uoU",
        "colab_type": "code",
        "colab": {
          "base_uri": "https://localhost:8080/",
          "height": 68
        },
        "outputId": "c85522ce-1916-4dcb-c165-69d9f0c38b12"
      },
      "source": [
        "print(\"Accuracy: \"+str(Accuracy(labels_test,result)))\n",
        "print(\"Precision: \"+str(Precision(labels_test,result)))\n",
        "print(\"Recall: \"+str(Recall(labels_test,result)))"
      ],
      "execution_count": null,
      "outputs": [
        {
          "output_type": "stream",
          "text": [
            "Accuracy: 0.97607421875\n",
            "Precision: 0.9725450631170584\n",
            "Recall: 0.9722035318745356\n"
          ],
          "name": "stdout"
        }
      ]
    },
    {
      "cell_type": "markdown",
      "metadata": {
        "id": "-h-nxN_JuQNZ",
        "colab_type": "text"
      },
      "source": [
        "WCSS"
      ]
    },
    {
      "cell_type": "code",
      "metadata": {
        "id": "dvl9L94WRzlV",
        "colab_type": "code",
        "colab": {}
      },
      "source": [
        "def WCSS(Clusters):\n",
        "    \"\"\"\n",
        "    :Clusters List[numpy.ndarray]\n",
        "    :rtype: float\n",
        "    \"\"\"\n",
        "    wcss_sum = 0\n",
        "    for i in range(len(Clusters)):\n",
        "        center = np.mean(Clusters[i],axis = 0)\n",
        "        dist = np.linalg.norm(Clusters[i] - center, axis = 1)\n",
        "        dist = dist ** 2\n",
        "\n",
        "        dist = np.sum(dist)\n",
        "        \n",
        "        wcss_sum += dist\n",
        "    \n",
        "    return wcss_sum"
      ],
      "execution_count": null,
      "outputs": []
    },
    {
      "cell_type": "markdown",
      "metadata": {
        "id": "fSj7vFyl4ESz",
        "colab_type": "text"
      },
      "source": [
        "RANDOM FOREST"
      ]
    },
    {
      "cell_type": "code",
      "metadata": {
        "id": "w35nLO-BOHje",
        "colab_type": "code",
        "colab": {}
      },
      "source": [
        "def gini_number(data):\n",
        "  classes=np.unique(data[:,-1]) \n",
        "  size=len(data)\n",
        "  score=0\n",
        "  for class_values in classes:\n",
        "    score =score + np.square(np.count_nonzero(data[:,-1]== class_values)/size)\n",
        "  gini=1-score\n",
        "  return gini\n",
        "\n",
        "\n",
        "def information_gain(dataset):\n",
        "  percent=[10,20,30,40,50,60,70,80,90]\n",
        "  i=-1\n",
        "  gain=-9999\n",
        "  left_data= None\n",
        "  right_data= None\n",
        "  new=[]\n",
        "  datafeatures=dataset[:,0:dataset.shape[1]-1]\n",
        "  left_gini,right_gini=0,0\n",
        "  for column in datafeatures.T:\n",
        "\n",
        "    i+=1\n",
        "\n",
        "    n_instances=float(len(dataset))\n",
        "    if(n_instances<=1):\n",
        "      continue\n",
        "    gini_column=gini_number(dataset[:,[i,-1]])\n",
        "    for percentile in percent:\n",
        "      \n",
        "      \n",
        "      new=np.argsort(dataset[:,i])\n",
        "      split=np.percentile(dataset[:,i],percentile)\n",
        "      left=dataset[dataset[:,i]<split]\n",
        "      left_size=float(len(left))\n",
        "      right=dataset[dataset[:,i]>=split]\n",
        "      right_size=float(len(right))\n",
        "      left_gini=gini_number(left)\n",
        "      right_gini=gini_number(right)\n",
        "      weighted_gini=left_gini*(left_size/n_instances)+right_gini*(right_size/n_instances)\n",
        "      info_gain=gini_column-weighted_gini\n",
        "      if(info_gain>gain):\n",
        "        gain,left_data,right_data,index_column,value=info_gain,left,right,i,split\n",
        "  return {'gain':gain,'left':left_data,'right':right_data,'index':index_column,'value':value}\n",
        "\n",
        "def splitting(node,max_depth):\n",
        "\n",
        "  depth=10\n",
        "  minsize=2   \n",
        "  left=node['left']\n",
        "  right=node['right']\n",
        "  del(node['left'])\n",
        "  del(node['right'])\n",
        "  left_label=left[:,-1]\n",
        "  left_label=left_label.astype(int)\n",
        "  right_label=right[:,-1]\n",
        "  right_label=right_label.astype(int)\n",
        "  values=[]\n",
        "  if(len(left)==0 or len(right)==0):\n",
        "    values=np.concatenate((left,right))\n",
        "    vl=values[:,-1].astype(int)\n",
        "    final_label=np.bincount(vl).argmax()\n",
        "    node['left']=node['right']=final_label\n",
        "    return\n",
        "  if(max_depth>=depth):\n",
        "    node['left']=np.bincount(left_label).argmax()\n",
        "    node['right']=np.bincount(right_label).argmax()\n",
        "    return\n",
        "  if(minsize>=len(left)):\n",
        "    node['left']=np.bincount(left_label).argmax()\n",
        "  else:\n",
        "    node['left']=information_gain(left)\n",
        "    d=max_depth+1\n",
        "    splitting(node['left'],d)\n",
        "  if(minsize>=len(right)):\n",
        "    node['right']=np.bincount(right_label).argmax()\n",
        "  else:\n",
        "    node['right']=information_gain(right)\n",
        "    d=max_depth+1\n",
        "    splitting(node['right'],d)\n",
        "\n",
        "\n",
        "def predictions(root,row):\n",
        "  if (row[root['index']]>root['value']):\n",
        "    if isinstance(root['right'],dict):\n",
        "      pred_val=predictions(root['right'],row)\n",
        "    else:\n",
        "      pred_val=root['right']\n",
        "  else:\n",
        "    if isinstance(root['left'],dict):\n",
        "      pred_val=predictions(root['left'],row)\n",
        "    else:\n",
        "      pred_val=root['left']\n",
        "  return pred_val\n",
        "\n",
        "\n",
        "def decision_tree(data,test):\n",
        "  \n",
        "  node=information_gain(data)\n",
        "  splitting(node,1)\n",
        "  test_predictions=[]\n",
        "  for row in test:\n",
        "    predicted=predictions(node,row)\n",
        "    test_predictions=np.append(test_predictions,predicted)\n",
        "  return test_predictions\n"
      ],
      "execution_count": null,
      "outputs": []
    },
    {
      "cell_type": "code",
      "metadata": {
        "id": "ymwq3W5HG-XW",
        "colab_type": "code",
        "colab": {}
      },
      "source": [
        "def RandomForest(X_train,Y_train,X_test):\n",
        "    # \"\"\"\n",
        "    # :type X_train: numpy.ndarray\n",
        "    # :type X_test: numpy.ndarray\n",
        "    # :type Y_train: numpy.ndarray\n",
        "    \n",
        "    # :rtype: numpy.ndarray\n",
        "    # \"\"\"\n",
        "  Xmin = np.amin(X_train,axis=0).reshape(1,X_train.shape[1])\n",
        "  Xmax = np.amax(X_train,axis=0).reshape(1,X_train.shape[1])\n",
        "  X_train = normalize(X_train,Xmin,Xmax)\n",
        "  X_test = normalize(X_test,Xmin,Xmax)\n",
        "\n",
        "  epochs=10\n",
        "  total_predictions=[]\n",
        "  predicted_label=[]\n",
        "  for i in range(epochs):\n",
        "    features_for_split=np.sqrt(np.size(X_train,1)) #7 features\n",
        "    index=np.arange(X_train.shape[1])\n",
        "    random_sample=np.random.choice(index,size=features_for_split.astype(int),replace=True)\n",
        "    random_features=features_train[:,random_sample]\n",
        "    test_features=X_test[:,random_sample]\n",
        "    total_data=np.column_stack((random_features,Y_train))\n",
        "    index_bootstrap=np.arange(X_train.shape[0])\n",
        "    bootstrap_sample=np.random.choice(index_bootstrap,X_train.shape[0],replace=True)\n",
        "    \n",
        "    bootstrap_data=total_data[bootstrap_sample,:]\n",
        "    total_predictions=np.append(total_predictions,decision_tree(bootstrap_data,test_features))\n",
        "  total_predictions=total_predictions.reshape(epochs,X_test.shape[0])\n",
        "  total_predictions=total_predictions.astype(int)\n",
        "  for row in total_predictions.T:\n",
        "    predicted_label=np.append(predicted_label,np.bincount(row).argmax())\n",
        "  return predicted_label\n",
        "  \n",
        "  \n",
        "labels_predict=RandomForest(features_train,labels_train,features_test)\n",
        "  \n"
      ],
      "execution_count": null,
      "outputs": []
    },
    {
      "cell_type": "code",
      "metadata": {
        "id": "ZclqThUB1XVd",
        "colab_type": "code",
        "colab": {
          "base_uri": "https://localhost:8080/",
          "height": 68
        },
        "outputId": "4fb8aa1c-0ef1-4f49-d4a4-68cc8b2e5a09"
      },
      "source": [
        "print(\"Accuracy: \"+str(Accuracy(labels_test,labels_predict)))\n",
        "print(\"Precision: \"+str(Precision(labels_test,labels_predict)))\n",
        "print(\"Recall: \"+str(Recall(labels_test,labels_predict)))"
      ],
      "execution_count": null,
      "outputs": [
        {
          "output_type": "stream",
          "text": [
            "Accuracy: 0.937255859375\n",
            "Precision: 0.9006695769117544\n",
            "Recall: 0.9514022275181261\n"
          ],
          "name": "stdout"
        }
      ]
    },
    {
      "cell_type": "markdown",
      "metadata": {
        "id": "qAVLC1oZumja",
        "colab_type": "text"
      },
      "source": [
        "PCA"
      ]
    },
    {
      "cell_type": "code",
      "metadata": {
        "id": "C1sd3ZLUShS-",
        "colab_type": "code",
        "colab": {}
      },
      "source": [
        "def PCA(X_train,N):\n",
        "    # \"\"\"\n",
        "    # :type X_train: numpy.ndarray\n",
        "    # :type N: int\n",
        "    # :rtype: numpy.ndarray\n",
        "    # \"\"\"\n",
        "    mean_Val = np.mean(X_train)\n",
        "    X_train_mean=X_train-mean_Val\n",
        "    u,s,vh = np.linalg.svd(X_train_mean, full_matrices=False)\n",
        "    vh=vh.T\n",
        "    S=np.diag(s)\n",
        "    PCA_array = u[:, 0:N].dot(S[0:N, 0:N])\n",
        "    return PCA_array"
      ],
      "execution_count": null,
      "outputs": []
    },
    {
      "cell_type": "code",
      "metadata": {
        "id": "Ie2Noejs2SqJ",
        "colab_type": "code",
        "colab": {
          "base_uri": "https://localhost:8080/",
          "height": 136
        },
        "outputId": "fe01eb65-e8ad-414f-882b-9b798dc35d04"
      },
      "source": [
        "PCA(features_train,5)"
      ],
      "execution_count": null,
      "outputs": [
        {
          "output_type": "execute_result",
          "data": {
            "text/plain": [
              "array([[-1.83740211,  1.11701008, -0.0258484 ,  0.07100412,  0.03270794],\n",
              "       [-1.63006909, -0.3063768 , -0.1313486 , -0.13376947, -0.1742998 ],\n",
              "       [-1.62225213, -0.45322299, -0.02203886, -0.06055087, -0.14343824],\n",
              "       ...,\n",
              "       [-1.75573997, -0.55979788,  0.40984929,  0.14038242, -0.02592349],\n",
              "       [-1.77257977, -0.56674086,  0.44536528,  0.10578653, -0.06077341],\n",
              "       [-1.6145492 , -0.4666827 ,  0.01172564, -0.15199735, -0.20391999]])"
            ]
          },
          "metadata": {
            "tags": []
          },
          "execution_count": 183
        }
      ]
    },
    {
      "cell_type": "markdown",
      "metadata": {
        "id": "tJiGKVrFusad",
        "colab_type": "text"
      },
      "source": [
        "K-MEANS"
      ]
    },
    {
      "cell_type": "code",
      "metadata": {
        "id": "xWghtJJzShVo",
        "colab_type": "code",
        "colab": {}
      },
      "source": [
        "def Kmeans(X_train,N):\n",
        "    \"\"\"\n",
        "    :type X_train: numpy.ndarray\n",
        "    :type N: int\n",
        "    :rtype: List[numpy.ndarray]\n",
        "    \"\"\"\n",
        "    Xmin = np.amin(X_train,axis=0).reshape(1,X_train.shape[1])\n",
        "    Xmax = np.amax(X_train,axis=0).reshape(1,X_train.shape[1])\n",
        "    X_train = normalize(X_train,Xmin,Xmax)\n",
        "    \n",
        "    num_rows = X_train.shape[0]\n",
        "    indexes = np.random.choice(num_rows, size=N, replace=False)\n",
        "    \n",
        "    centers = X_train[indexes, :]\n",
        "    centers_prev = np.zeros(centers.shape)\n",
        "\n",
        "    while(not np.array_equal(centers,centers_prev)):\n",
        "        cluster_distance = np.zeros((N, len(X_train)))\n",
        "        centers_prev = np.copy(centers)\n",
        "        for i in range(len(centers)):\n",
        "            c = centers[i].reshape(1,len(centers[0]))\n",
        "            #cluster_distance[i,:] = np.sqrt(np.sum(((X_train - c) ** 2),axis = 1))\n",
        "            cluster_distance[i,:] = np.linalg.norm(X_train - c, axis = 1)\n",
        "        min_index = np.argmin(cluster_distance,axis=0)\n",
        "\n",
        "        for i in range(len(centers)):\n",
        "            centers[i] = np.mean(X_train[np.where(min_index == i)],axis = 0)\n",
        "      \n",
        "    min_index = min_index + 1\n",
        "    clusters = []\n",
        "    for i in range(N):\n",
        "      clusters.append(X_train[list(np.where(min_index == i+1)[0])])\n",
        "\n",
        "    return clusters"
      ],
      "execution_count": null,
      "outputs": []
    },
    {
      "cell_type": "code",
      "metadata": {
        "id": "4yJZC4zBc8lc",
        "colab_type": "code",
        "colab": {
          "base_uri": "https://localhost:8080/",
          "height": 102
        },
        "outputId": "737ce919-1153-4ec5-a52a-aac52ce445a0"
      },
      "source": [
        "clusters = Kmeans(features,3)\n",
        "print(WCSS(clusters))"
      ],
      "execution_count": null,
      "outputs": [
        {
          "output_type": "stream",
          "text": [
            "3\n",
            "<class 'numpy.ndarray'>\n",
            "<class 'numpy.ndarray'>\n",
            "<class 'numpy.ndarray'>\n",
            "10876.415023001844\n"
          ],
          "name": "stdout"
        }
      ]
    },
    {
      "cell_type": "markdown",
      "metadata": {
        "id": "abHtaMFg_Nq2",
        "colab_type": "text"
      },
      "source": [
        "PART-2"
      ]
    },
    {
      "cell_type": "code",
      "metadata": {
        "id": "vvGKrFWU9Vyy",
        "colab_type": "code",
        "colab": {}
      },
      "source": [
        "from sklearn.linear_model import LogisticRegression\n",
        "from sklearn import tree\n",
        "from sklearn.ensemble import VotingClassifier\n",
        "from sklearn.model_selection import train_test_split\n",
        "from sklearn.neighbors import KNeighborsClassifier\n",
        "from sklearn.svm import SVC\n",
        "from sklearn.preprocessing import MinMaxScaler"
      ],
      "execution_count": null,
      "outputs": []
    },
    {
      "cell_type": "markdown",
      "metadata": {
        "id": "P5EVDGQ1_QkG",
        "colab_type": "text"
      },
      "source": [
        "CONFUSION MATRIX AND VISUALIZATION"
      ]
    },
    {
      "cell_type": "code",
      "metadata": {
        "id": "LYY0dfH9wHEu",
        "colab_type": "code",
        "colab": {}
      },
      "source": [
        "def plot_confusion_matrix(cm,title='Confusion matrix'):    \n",
        "    Color=plt.cm.Reds\n",
        "    fig = plt.figure(figsize=(12,8))\n",
        "    sub = fig.add_subplot(111)\n",
        "    plot = sub.matshow(cm,cmap=Color)\n",
        "    plt.title(title)\n",
        "    fig.colorbar(plot)\n",
        "    sub.xaxis.set_major_locator(ticker.MultipleLocator(1))\n",
        "    sub.yaxis.set_major_locator(ticker.MultipleLocator(1))\n",
        "    plt.xlabel('Predicted')\n",
        "    plt.ylabel('True')"
      ],
      "execution_count": null,
      "outputs": []
    },
    {
      "cell_type": "code",
      "metadata": {
        "id": "eJBc7hbV_DPm",
        "colab_type": "code",
        "colab": {}
      },
      "source": [
        "def ConfusionMatrix(y_true,y_pred,title='Confusion matrix'):\n",
        "    # \"\"\"\n",
        "    # :type y_true: numpy.ndarray\n",
        "    # :type y_pred: numpy.ndarray\n",
        "    # :rtype: float\n",
        "    # \"\"\"\n",
        "  unique_val=np.unique(y_true)\n",
        "  no_class = len(unique_val)\n",
        "  y_true=y_true-1\n",
        "  y_pred=y_pred-1\n",
        "\n",
        "  confusion_matrix=y_true*no_class+y_pred\n",
        "  con_matrix= np.zeros(no_class**2)\n",
        "  for i in range(len(confusion_matrix)): \n",
        "    index=confusion_matrix[i]\n",
        "    count=np.count_nonzero(confusion_matrix==(index))\n",
        "    con_matrix[index]=count\n",
        "\n",
        "  con_matrix_reshape=np.reshape(con_matrix, (no_class,no_class))\n",
        "  plot_confusion_matrix(con_matrix_reshape,title)\n",
        "  return con_matrix_reshape"
      ],
      "execution_count": null,
      "outputs": []
    },
    {
      "cell_type": "markdown",
      "metadata": {
        "id": "ILFqDDVh_j1p",
        "colab_type": "text"
      },
      "source": [
        "SUPERVISED LEARNING-LOGISTIC REGRESSION,KNN,DECISION TREE,SVM"
      ]
    },
    {
      "cell_type": "code",
      "metadata": {
        "id": "CfjcmSSl6Y_a",
        "colab_type": "code",
        "colab": {}
      },
      "source": [
        "def MyLogisticRegression(X_train,Y_train): #85.8% \n",
        "    logistic_regr = LogisticRegression(multi_class = 'multinomial', solver = 'saga')\n",
        "    logistic_regr.fit(X_train,Y_train)\n",
        "    return logistic_regr\n",
        "    \n",
        "def MyKNNClassifier(X_train,Y_train): #98.4%\n",
        "    knn = KNeighborsClassifier(n_neighbors = 11, weights='uniform')\n",
        "    knn.fit(X_train,Y_train)\n",
        "    return knn\n",
        "\n",
        "def MyDTClassifier(X_train,Y_train): #98.2%\n",
        "    classifier = tree.DecisionTreeClassifier()\n",
        "    classifier = classifier.fit(X_train,Y_train)\n",
        "    return classifier\n",
        "\n",
        "def MySVClassifier(X_train,Y_train): #90.1%\n",
        "    svclassifier = SVC(kernel = 'linear')\n",
        "    svclassifier.fit(X_train,Y_train)\n",
        "    return svclassifier"
      ],
      "execution_count": null,
      "outputs": []
    },
    {
      "cell_type": "code",
      "metadata": {
        "id": "Dn6RAJQa9ZTP",
        "colab_type": "code",
        "colab": {}
      },
      "source": [
        "def SklearnSupervisedLearning(X_train,Y_train,X_test,Y_test):\n",
        "    \"\"\"\n",
        "    :type X_train: numpy.ndarray\n",
        "    :type X_test: numpy.ndarray\n",
        "    :type Y_train: numpy.ndarray\n",
        "    \n",
        "    :rtype: List[numpy.ndarray] \n",
        "    \"\"\"\n",
        "    Xmin = np.amin(X_train,axis=0).reshape(1,X_train.shape[1])\n",
        "    Xmax = np.amax(X_train,axis=0).reshape(1,X_train.shape[1])\n",
        "    X_train = normalize(X_train,Xmin,Xmax)\n",
        "    X_test = normalize(X_test,Xmin,Xmax)\n",
        "\n",
        "    classifier = MyLogisticRegression(X_train,Y_train)\n",
        "    log_regr_y_pred = classifier.predict(X_test)\n",
        "    print(\"Accuracy of Logistic Regression: \"+str(Accuracy(Y_test,log_regr_y_pred)))\n",
        "    ConfusionMatrix(Y_test,log_regr_y_pred,\"Confusion matrix of Logistic Regression\")\n",
        "\n",
        "    classifier = MySVClassifier(X_train,Y_train)\n",
        "    svm_y_pred = classifier.predict(X_test)\n",
        "    print(\"Accuracy of SVM: \"+str(Accuracy(Y_test,svm_y_pred)))\n",
        "    ConfusionMatrix(Y_test,svm_y_pred,\"Confusion matrix of SVM\")\n",
        "\n",
        "    classifier = MyKNNClassifier(X_train,Y_train)\n",
        "    knn_y_pred = classifier.predict(X_test)\n",
        "    print(\"Accuracy of KNN: \"+str(Accuracy(Y_test,knn_y_pred)))\n",
        "    ConfusionMatrix(Y_test,knn_y_pred,\"Confusion matrix of KNN\")\n",
        "\n",
        "    classifier = MyDTClassifier(X_train,Y_train)\n",
        "    DT_y_pred = classifier.predict(X_test)\n",
        "    print(\"Accuracy of Decision Tree: \"+str(Accuracy(Y_test,DT_y_pred)))\n",
        "    ConfusionMatrix(Y_test,DT_y_pred,\"Confusion matrix of Decision Tree\")\n",
        "\n",
        "    return [log_regr_y_pred,svm_y_pred,knn_y_pred,DT_y_pred]"
      ],
      "execution_count": null,
      "outputs": []
    },
    {
      "cell_type": "code",
      "metadata": {
        "id": "EXQqEWte9Zr5",
        "colab_type": "code",
        "colab": {
          "base_uri": "https://localhost:8080/",
          "height": 1000
        },
        "outputId": "08591b6e-643e-4aa3-cfda-769c43f6d66a"
      },
      "source": [
        "SklearnSupervisedLearning(features_train,labels_train,features_test,labels_test)"
      ],
      "execution_count": null,
      "outputs": [
        {
          "output_type": "stream",
          "text": [
            "/usr/local/lib/python3.6/dist-packages/sklearn/linear_model/_sag.py:330: ConvergenceWarning: The max_iter was reached which means the coef_ did not converge\n",
            "  \"the coef_ did not converge\", ConvergenceWarning)\n"
          ],
          "name": "stderr"
        },
        {
          "output_type": "stream",
          "text": [
            "Accuracy of Logistic Regression: 0.8702392578125\n",
            "Accuracy of SVM: 0.8919677734375\n",
            "Accuracy of KNN: 0.98583984375\n",
            "Accuracy of Decision Tree: 0.9803466796875\n"
          ],
          "name": "stdout"
        },
        {
          "output_type": "execute_result",
          "data": {
            "text/plain": [
              "[array([10,  8,  7, ...,  1, 11,  8]),\n",
              " array([10,  8,  7, ...,  1, 11,  8]),\n",
              " array([10,  8,  7, ...,  1, 11,  8]),\n",
              " array([10,  8,  7, ...,  1, 11,  8])]"
            ]
          },
          "metadata": {
            "tags": []
          },
          "execution_count": 14
        },
        {
          "output_type": "display_data",
          "data": {
            "image/png": "[encoded data removed]",
            "text/plain": [
              "<Figure size 864x576 with 2 Axes>"
            ]
          },
          "metadata": {
            "tags": []
          }
        },
        {
          "output_type": "display_data",
          "data": {
            "image/png": "[encoded data removed]",
            "text/plain": [
              "<Figure size 864x576 with 2 Axes>"
            ]
          },
          "metadata": {
            "tags": []
          }
        },
        {
          "output_type": "display_data",
          "data": {
            "image/png": "[encoded data removed]",
            "text/plain": [
              "<Figure size 864x576 with 2 Axes>"
            ]
          },
          "metadata": {
            "tags": []
          }
        },
        {
          "output_type": "display_data",
          "data": {
            "image/png": "[encoded data removed]",
            "text/plain": [
              "<Figure size 864x576 with 2 Axes>"
            ]
          },
          "metadata": {
            "tags": []
          }
        }
      ]
    },
    {
      "cell_type": "markdown",
      "metadata": {
        "id": "x9mZnSc-_mVV",
        "colab_type": "text"
      },
      "source": [
        "VOTING CLASSIFIER"
      ]
    },
    {
      "cell_type": "code",
      "metadata": {
        "id": "N4qkwUAORz2W",
        "colab_type": "code",
        "colab": {
          "base_uri": "https://localhost:8080/",
          "height": 620
        },
        "outputId": "035907e7-d0bd-44ac-b9aa-5a98fea2e961"
      },
      "source": [
        "def SklearnVotingClassifier(X_train,Y_train,X_test,Y_test):\n",
        "    \n",
        "    \"\"\"\n",
        "    :type X_train: numpy.ndarray\n",
        "    :type X_test: numpy.ndarray\n",
        "    :type Y_train: numpy.ndarray\n",
        "    \n",
        "    :rtype: List[numpy.ndarray] \n",
        "    \"\"\"\n",
        "    Xmin = np.amin(X_train,axis=0).reshape(1,X_train.shape[1])\n",
        "    Xmax = np.amax(X_train,axis=0).reshape(1,X_train.shape[1])\n",
        "    X_train = normalize(X_train,Xmin,Xmax)\n",
        "    X_test = normalize(X_test,Xmin,Xmax)\n",
        "    \n",
        "    logistic_regr = MyLogisticRegression(X_train,Y_train)\n",
        "    knn = MyKNNClassifier(X_train,Y_train)\n",
        "    svclassifier = MySVClassifier(X_train,Y_train)\n",
        "    DTclassifier = MyDTClassifier(X_train,Y_train)\n",
        "    \n",
        "    models = [('logisitc_regr',logistic_regr),('knn',knn),('svclassifier',svclassifier),('DecisionTree',DTclassifier)]\n",
        "    ensemble = VotingClassifier(models,voting = 'hard')\n",
        "    ensemble.fit(X_train,Y_train)\n",
        "    y_pred = ensemble.predict(X_test)\n",
        "    ConfusionMatrix(Y_test,y_pred,\"Confusion matrix of Voting Classifier\")\n",
        "    print(\"Accuracy of Voting Classifier: \"+str(Accuracy(Y_test,y_pred)))\n",
        "    return y_pred\n",
        "SklearnVotingClassifier(features_train,labels_train,features_test,labels_test)\n",
        "\n",
        "\"\"\"\n",
        "Create your own custom functions for Matplotlib visualization of hyperparameter search. \n",
        "Make sure that plots are labeled and proper legends are used\n",
        "\"\"\""
      ],
      "execution_count": null,
      "outputs": [
        {
          "output_type": "stream",
          "text": [
            "/usr/local/lib/python3.6/dist-packages/sklearn/linear_model/_sag.py:330: ConvergenceWarning: The max_iter was reached which means the coef_ did not converge\n",
            "  \"the coef_ did not converge\", ConvergenceWarning)\n",
            "/usr/local/lib/python3.6/dist-packages/sklearn/linear_model/_sag.py:330: ConvergenceWarning: The max_iter was reached which means the coef_ did not converge\n",
            "  \"the coef_ did not converge\", ConvergenceWarning)\n"
          ],
          "name": "stderr"
        },
        {
          "output_type": "stream",
          "text": [
            "Accuracy of Voting Classifier: 0.94677734375\n"
          ],
          "name": "stdout"
        },
        {
          "output_type": "execute_result",
          "data": {
            "text/plain": [
              "'\\nCreate your own custom functions for Matplotlib visualization of hyperparameter search. \\nMake sure that plots are labeled and proper legends are used\\n'"
            ]
          },
          "metadata": {
            "tags": []
          },
          "execution_count": 12
        },
        {
          "output_type": "display_data",
          "data": {
            "image/png": "[encoded data removed]",
            "text/plain": [
              "<Figure size 864x576 with 2 Axes>"
            ]
          },
          "metadata": {
            "tags": []
          }
        }
      ]
    },
    {
      "cell_type": "markdown",
      "metadata": {
        "id": "6qdpTQnOB3i2",
        "colab_type": "text"
      },
      "source": [
        "KNN GRID SEARCH"
      ]
    },
    {
      "cell_type": "code",
      "metadata": {
        "id": "Fp1cO796JElJ",
        "colab_type": "code",
        "colab": {}
      },
      "source": [
        "from sklearn.model_selection import GridSearchCV"
      ],
      "execution_count": null,
      "outputs": []
    },
    {
      "cell_type": "code",
      "metadata": {
        "id": "sqpEENlk81sE",
        "colab_type": "code",
        "colab": {
          "base_uri": "https://localhost:8080/",
          "height": 297
        },
        "outputId": "c012f482-50c6-4c9c-f412-38c7bbe8c1bf"
      },
      "source": [
        "\n",
        "def KNeighboursClassifier_grid(features_train,features_test,labels_train,labels_test):\n",
        "  knn_grid = KNeighborsClassifier()\n",
        "  knn_grid_dict={'n_neighbors':[5,6,11],\n",
        "                'algorithm':['auto','ball_tree']}\n",
        "  knn_grid_search = GridSearchCV(estimator=knn_grid,\n",
        "                      param_grid=knn_grid_dict,\n",
        "                      scoring='accuracy',\n",
        "                      )\n",
        "  knn_grid_search.fit(features_train,labels_train)\n",
        "  Y_predict=knn_grid_search.predict(features_test)\n",
        "  params = knn_grid_search.cv_results_['params']\n",
        "  num_neighbors = []\n",
        "  for p in params:\n",
        "    num_neighbors.append(p['n_neighbors'])\n",
        "  print(num_neighbors)\n",
        "  KNN_Accuracy=pd.DataFrame(knn_grid_search.cv_results_,columns=['mean_test_score'])\n",
        "  plt.plot(num_neighbors,KNN_Accuracy)\n",
        "  plt.xlabel('n_neighbours')\n",
        "  plt.ylabel('Accuracy')\n",
        "\n",
        "  plt.show\n",
        "KNeighboursClassifier_grid(features_train,features_test,labels_train,labels_test)"
      ],
      "execution_count": null,
      "outputs": [
        {
          "output_type": "stream",
          "text": [
            "[5, 6, 11, 5, 6, 11]\n"
          ],
          "name": "stdout"
        },
        {
          "output_type": "display_data",
          "data": {
            "image/png": "[encoded data removed]",
            "text/plain": [
              "<Figure size 432x288 with 1 Axes>"
            ]
          },
          "metadata": {
            "tags": []
          }
        }
      ]
    },
    {
      "cell_type": "markdown",
      "metadata": {
        "id": "XaLRkIvXB7VS",
        "colab_type": "text"
      },
      "source": [
        "DECISION TREE GRID SEARCH"
      ]
    },
    {
      "cell_type": "code",
      "metadata": {
        "id": "rg1Ijw2F814C",
        "colab_type": "code",
        "colab": {
          "base_uri": "https://localhost:8080/",
          "height": 296
        },
        "outputId": "720a2cc7-074b-4e0e-f894-56333d6d9fac"
      },
      "source": [
        "def Decision_tree_Classifier_grid(features_train,features_test,labels_train,labels_test):\n",
        "  classifier_grid= tree.DecisionTreeClassifier()\n",
        "  decision_tree_dict={'max_depth':[5,8,10],\n",
        "                'criterion':['gini','entropy'],\n",
        "                'min_samples_split':[2,4]}\n",
        "  decision_tree_search = GridSearchCV(estimator=classifier_grid,\n",
        "                      param_grid=decision_tree_dict,\n",
        "                      scoring='accuracy',\n",
        "                      )\n",
        "  decision_tree_search.fit(features_train,labels_train)\n",
        "  Y_predict_decision=decision_tree_search.predict(features_test)\n",
        "  # print(\"Accuracy :\"+ Accuracy(labels_test,Y_predict))\n",
        "\n",
        "  params = decision_tree_search.cv_results_['params']\n",
        "  max_depth = []\n",
        "  for p in params:\n",
        "    max_depth.append(p['max_depth'])\n",
        "  Decision_Accuracy=pd.DataFrame(decision_tree_search.cv_results_,columns=['mean_test_score'])\n",
        "  plt.plot(max_depth,Decision_Accuracy)\n",
        "  plt.xlabel('max_depth')\n",
        "  plt.ylabel('Accuracy')\n",
        "  plt.title(\"Decision Tree Classifier Grid Search\")\n",
        "  plt.show\n",
        "Decision_tree_Classifier_grid(features_train,features_test,labels_train,labels_test)"
      ],
      "execution_count": null,
      "outputs": [
        {
          "output_type": "display_data",
          "data": {
            "image/png": "[encoded data removed]",
            "text/plain": [
              "<Figure size 432x288 with 1 Axes>"
            ]
          },
          "metadata": {
            "tags": []
          }
        }
      ]
    },
    {
      "cell_type": "markdown",
      "metadata": {
        "id": "ObwLvKfoB-nk",
        "colab_type": "text"
      },
      "source": [
        "SVM GRID SEARCH"
      ]
    },
    {
      "cell_type": "code",
      "metadata": {
        "id": "CSlQlhhi82ii",
        "colab_type": "code",
        "colab": {}
      },
      "source": [
        "def SVClassifier_grid(X_train,X_test,Y_train,Y_test):\n",
        "  Xmin = np.amin(X_train,axis=0).reshape(1,X_train.shape[1])\n",
        "  Xmax = np.amax(X_train,axis=0).reshape(1,X_train.shape[1])\n",
        "  X_train = normalize(X_train,Xmin,Xmax)\n",
        "  X_test = normalize(X_test,Xmin,Xmax)\n",
        "\n",
        "  svclassifier_grid = SVC()\n",
        "  svm_dict={'gamma':['scale','auto'],\n",
        "                'degree':[1,4,5],\n",
        "                'kernel':['linear']}\n",
        "  svm_search = GridSearchCV(estimator=svclassifier_grid,\n",
        "                      param_grid=svm_dict,\n",
        "                      scoring='accuracy',\n",
        "                      )\n",
        "  svm_search.fit(X_train,Y_train)\n",
        "  Y_predict_svm=svm_search.predict(X_test)\n",
        "  params = svm_search.cv_results_['params']\n",
        "  degree = []\n",
        "  for p in params:\n",
        "    degree.append(p['degree'])\n",
        "  SVM_Accuracy=pd.DataFrame(svm_search.cv_results_,columns=['mean_test_score'])\n",
        "  plt.plot(degree,SVM_Accuracy)\n",
        "  plt.xlabel('degree')\n",
        "  plt.ylabel('Accuracy')\n",
        "  plt.title(\"SVM Classifier Grid Search\")\n",
        "  plt.show\n",
        "SVClassifier_grid(features_train,features_test,labels_train,labels_test)"
      ],
      "execution_count": null,
      "outputs": []
    },
    {
      "cell_type": "markdown",
      "metadata": {
        "id": "9OWYyXWgCCT4",
        "colab_type": "text"
      },
      "source": [
        "LOGISTIC REGRESSION GRID SEARCH"
      ]
    },
    {
      "cell_type": "code",
      "metadata": {
        "id": "NIvHdqgy82tb",
        "colab_type": "code",
        "colab": {}
      },
      "source": [
        "def Logistic_Regression_grid(features_train,features_test,labels_train,labels_test):\n",
        "  logistic_regr_grid = LogisticRegression()\n",
        "  logistic_dict={'solver': ['newton-cg', 'lbfgs','sag', 'saga'],\n",
        "                  'multi_class':['multinomial']}\n",
        "  logistic_search = GridSearchCV(estimator=logistic_regr_grid,\n",
        "                      param_grid=logistic_dict,\n",
        "                      scoring='accuracy',\n",
        "                      )\n",
        "  logistic_search.fit(features_train,labels_train)\n",
        "  Y_predict_logistic=logistic_search.predict(features_test)\n",
        "  # print(\"Accuracy :\"+ Accuracy(labels_test,Y_predict))\n",
        "  print(logistic_search.cv_results_)\n",
        "  params = logistic_search.cv_results_['params']\n",
        "  solver = []\n",
        "  for p in params:\n",
        "    solver.append(p['solver'])\n",
        "  logistic_Accuracy=pd.DataFrame(logistic_search.cv_results_,columns=['mean_test_score'])\n",
        "  plt.plot(solver,logistic_Accuracy)\n",
        "  plt.xlabel('solver')\n",
        "  plt.ylabel('Accuracy')\n",
        "  plt.title('Logistic regression Grid Search')\n",
        "  plt.show\n",
        "Logistic_Regression_grid(features_train,features_test,labels_train,labels_test)"
      ],
      "execution_count": null,
      "outputs": []
    }
  ]
}